{
 "cells": [
  {
   "cell_type": "code",
   "execution_count": 1,
   "id": "eee7cd4a",
   "metadata": {},
   "outputs": [],
   "source": [
    "import numpy as np\n",
    "from flask import Flask, request, render_template\n",
    "import pickle\n"
   ]
  },
  {
   "cell_type": "code",
   "execution_count": 2,
   "id": "0d0bae05",
   "metadata": {},
   "outputs": [],
   "source": [
    "app = Flask(__name__)\n",
    "model = pickle.load(open('regressor.pkl', 'rb'))\n",
    "lb = pickle.load(open('lb', 'rb'))\n",
    "lb1 = pickle.load(open('lb1', 'rb'))"
   ]
  },
  {
   "cell_type": "code",
   "execution_count": 3,
   "id": "0440ca31",
   "metadata": {},
   "outputs": [],
   "source": [
    "#HomePage\n",
    "@app.route('/')\n",
    "def home():\n",
    "    return render_template('car_index.html')\n",
    "\n",
    "#prediction of car price\n",
    "@app.route('/predict',methods=['POST'])\n",
    "def predict():\n",
    "    '''\n",
    "    For rendering results on HTML GUI\n",
    "    '''\n",
    "    features = [str(x) for x in request.form.values()]\n",
    "    year = int(features[0])\n",
    "    kms_driven = int(features[1])\n",
    "    final_features = []\n",
    "    #a=[]\n",
    "    #a = \n",
    "    #print(a)\n",
    "    final_features.append(year)\n",
    "    final_features.append(kms_driven)\n",
    "    final_features.append(lb.transform([features[2]])[0])\n",
    "    final_features.append(lb1.transform([features[3]])[0])\n",
    "    print(len(final_features))\n",
    "    prediction = model.predict([final_features])\n",
    "    output = round(prediction[0], 2)    \n",
    "    return render_template('index.html',prediction_text = output)\n",
    " "
   ]
  },
  {
   "cell_type": "code",
   "execution_count": null,
   "id": "2cd42781",
   "metadata": {},
   "outputs": [
    {
     "name": "stdout",
     "output_type": "stream",
     "text": [
      " * Serving Flask app '__main__'\n",
      " * Debug mode: off\n"
     ]
    },
    {
     "name": "stderr",
     "output_type": "stream",
     "text": [
      "WARNING: This is a development server. Do not use it in a production deployment. Use a production WSGI server instead.\n",
      " * Running on http://127.0.0.1:5000\n",
      "Press CTRL+C to quit\n"
     ]
    }
   ],
   "source": [
    "if __name__ == \"__main__\":\n",
    "    app.run(debug=False)"
   ]
  },
  {
   "cell_type": "code",
   "execution_count": null,
   "id": "2218294c",
   "metadata": {},
   "outputs": [],
   "source": []
  }
 ],
 "metadata": {
  "kernelspec": {
   "display_name": "Python 3 (ipykernel)",
   "language": "python",
   "name": "python3"
  },
  "language_info": {
   "codemirror_mode": {
    "name": "ipython",
    "version": 3
   },
   "file_extension": ".py",
   "mimetype": "text/x-python",
   "name": "python",
   "nbconvert_exporter": "python",
   "pygments_lexer": "ipython3",
   "version": "3.11.4"
  }
 },
 "nbformat": 4,
 "nbformat_minor": 5
}
